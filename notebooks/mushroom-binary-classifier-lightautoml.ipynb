{
 "cells": [
  {
   "cell_type": "markdown",
   "metadata": {},
   "source": [
    "# Learning:\n",
    "1. Metrics: Matthews Correlation Coefficient (MCC)\n",
    "2. AutoML: LightAutoML\n",
    "\n",
    "### LightAutoML\n",
    "- https://lightautoml.readthedocs.io/en/latest/index.html\n",
    "- https://paperswithcode.com/method/lightautoml\n",
    "- https://arxiv.org/pdf/2109.01528\n",
    "\n",
    "LightAutoML provides easy-to-use pipeline creation, that enables:\n",
    "- Automatic hyperparameter tuning, data processing.\n",
    "- Automatic typing, feature selection.\n",
    "- Automatic time utilization.\n",
    "- Automatic report creation.\n",
    "- Easy-to-use modular scheme to create your own pipelines."
   ]
  },
  {
   "cell_type": "code",
   "execution_count": 1,
   "metadata": {},
   "outputs": [],
   "source": [
    "import os\n",
    "\n",
    "os.chdir('/home/ubuntu/kaggle/mushroom-binary-classifier')"
   ]
  },
  {
   "cell_type": "code",
   "execution_count": 2,
   "metadata": {},
   "outputs": [],
   "source": [
    "import polars as pl\n",
    "\n",
    "train_df = pl.scan_csv(\"train.csv\")"
   ]
  },
  {
   "cell_type": "code",
   "execution_count": 3,
   "metadata": {},
   "outputs": [
    {
     "data": {
      "text/html": [
       "<div><style>\n",
       ".dataframe > thead > tr,\n",
       ".dataframe > tbody > tr {\n",
       "  text-align: right;\n",
       "  white-space: pre-wrap;\n",
       "}\n",
       "</style>\n",
       "<small>shape: (5, 22)</small><table border=\"1\" class=\"dataframe\"><thead><tr><th>id</th><th>class</th><th>cap-diameter</th><th>cap-shape</th><th>cap-surface</th><th>cap-color</th><th>does-bruise-or-bleed</th><th>gill-attachment</th><th>gill-spacing</th><th>gill-color</th><th>stem-height</th><th>stem-width</th><th>stem-root</th><th>stem-surface</th><th>stem-color</th><th>veil-type</th><th>veil-color</th><th>has-ring</th><th>ring-type</th><th>spore-print-color</th><th>habitat</th><th>season</th></tr><tr><td>i64</td><td>str</td><td>f64</td><td>str</td><td>str</td><td>str</td><td>str</td><td>str</td><td>str</td><td>str</td><td>f64</td><td>f64</td><td>str</td><td>str</td><td>str</td><td>str</td><td>str</td><td>str</td><td>str</td><td>str</td><td>str</td><td>str</td></tr></thead><tbody><tr><td>0</td><td>&quot;e&quot;</td><td>8.8</td><td>&quot;f&quot;</td><td>&quot;s&quot;</td><td>&quot;u&quot;</td><td>&quot;f&quot;</td><td>&quot;a&quot;</td><td>&quot;c&quot;</td><td>&quot;w&quot;</td><td>4.51</td><td>15.39</td><td>null</td><td>null</td><td>&quot;w&quot;</td><td>null</td><td>null</td><td>&quot;f&quot;</td><td>&quot;f&quot;</td><td>null</td><td>&quot;d&quot;</td><td>&quot;a&quot;</td></tr><tr><td>1</td><td>&quot;p&quot;</td><td>4.51</td><td>&quot;x&quot;</td><td>&quot;h&quot;</td><td>&quot;o&quot;</td><td>&quot;f&quot;</td><td>&quot;a&quot;</td><td>&quot;c&quot;</td><td>&quot;n&quot;</td><td>4.79</td><td>6.48</td><td>null</td><td>&quot;y&quot;</td><td>&quot;o&quot;</td><td>null</td><td>null</td><td>&quot;t&quot;</td><td>&quot;z&quot;</td><td>null</td><td>&quot;d&quot;</td><td>&quot;w&quot;</td></tr><tr><td>2</td><td>&quot;e&quot;</td><td>6.94</td><td>&quot;f&quot;</td><td>&quot;s&quot;</td><td>&quot;b&quot;</td><td>&quot;f&quot;</td><td>&quot;x&quot;</td><td>&quot;c&quot;</td><td>&quot;w&quot;</td><td>6.85</td><td>9.93</td><td>null</td><td>&quot;s&quot;</td><td>&quot;n&quot;</td><td>null</td><td>null</td><td>&quot;f&quot;</td><td>&quot;f&quot;</td><td>null</td><td>&quot;l&quot;</td><td>&quot;w&quot;</td></tr><tr><td>3</td><td>&quot;e&quot;</td><td>3.88</td><td>&quot;f&quot;</td><td>&quot;y&quot;</td><td>&quot;g&quot;</td><td>&quot;f&quot;</td><td>&quot;s&quot;</td><td>null</td><td>&quot;g&quot;</td><td>4.16</td><td>6.53</td><td>null</td><td>null</td><td>&quot;w&quot;</td><td>null</td><td>null</td><td>&quot;f&quot;</td><td>&quot;f&quot;</td><td>null</td><td>&quot;d&quot;</td><td>&quot;u&quot;</td></tr><tr><td>4</td><td>&quot;e&quot;</td><td>5.85</td><td>&quot;x&quot;</td><td>&quot;l&quot;</td><td>&quot;w&quot;</td><td>&quot;f&quot;</td><td>&quot;d&quot;</td><td>null</td><td>&quot;w&quot;</td><td>3.37</td><td>8.36</td><td>null</td><td>null</td><td>&quot;w&quot;</td><td>null</td><td>null</td><td>&quot;f&quot;</td><td>&quot;f&quot;</td><td>null</td><td>&quot;g&quot;</td><td>&quot;a&quot;</td></tr></tbody></table></div>"
      ],
      "text/plain": [
       "shape: (5, 22)\n",
       "┌─────┬───────┬──────────────┬───────────┬───┬───────────┬───────────────────┬─────────┬────────┐\n",
       "│ id  ┆ class ┆ cap-diameter ┆ cap-shape ┆ … ┆ ring-type ┆ spore-print-color ┆ habitat ┆ season │\n",
       "│ --- ┆ ---   ┆ ---          ┆ ---       ┆   ┆ ---       ┆ ---               ┆ ---     ┆ ---    │\n",
       "│ i64 ┆ str   ┆ f64          ┆ str       ┆   ┆ str       ┆ str               ┆ str     ┆ str    │\n",
       "╞═════╪═══════╪══════════════╪═══════════╪═══╪═══════════╪═══════════════════╪═════════╪════════╡\n",
       "│ 0   ┆ e     ┆ 8.8          ┆ f         ┆ … ┆ f         ┆ null              ┆ d       ┆ a      │\n",
       "│ 1   ┆ p     ┆ 4.51         ┆ x         ┆ … ┆ z         ┆ null              ┆ d       ┆ w      │\n",
       "│ 2   ┆ e     ┆ 6.94         ┆ f         ┆ … ┆ f         ┆ null              ┆ l       ┆ w      │\n",
       "│ 3   ┆ e     ┆ 3.88         ┆ f         ┆ … ┆ f         ┆ null              ┆ d       ┆ u      │\n",
       "│ 4   ┆ e     ┆ 5.85         ┆ x         ┆ … ┆ f         ┆ null              ┆ g       ┆ a      │\n",
       "└─────┴───────┴──────────────┴───────────┴───┴───────────┴───────────────────┴─────────┴────────┘"
      ]
     },
     "execution_count": 3,
     "metadata": {},
     "output_type": "execute_result"
    }
   ],
   "source": [
    "train_df.head().collect()"
   ]
  },
  {
   "cell_type": "code",
   "execution_count": 4,
   "metadata": {},
   "outputs": [
    {
     "data": {
      "text/html": [
       "<div><style>\n",
       ".dataframe > thead > tr,\n",
       ".dataframe > tbody > tr {\n",
       "  text-align: right;\n",
       "  white-space: pre-wrap;\n",
       "}\n",
       "</style>\n",
       "<small>shape: (2, 1)</small><table border=\"1\" class=\"dataframe\"><thead><tr><th>class</th></tr><tr><td>struct[2]</td></tr></thead><tbody><tr><td>{&quot;e&quot;,0.452863}</td></tr><tr><td>{&quot;p&quot;,0.547137}</td></tr></tbody></table></div>"
      ],
      "text/plain": [
       "shape: (2, 1)\n",
       "┌────────────────┐\n",
       "│ class          │\n",
       "│ ---            │\n",
       "│ struct[2]      │\n",
       "╞════════════════╡\n",
       "│ {\"e\",0.452863} │\n",
       "│ {\"p\",0.547137} │\n",
       "└────────────────┘"
      ]
     },
     "execution_count": 4,
     "metadata": {},
     "output_type": "execute_result"
    }
   ],
   "source": [
    "train_df.select(pl.col('class').value_counts(normalize=True)).collect()"
   ]
  },
  {
   "cell_type": "code",
   "execution_count": 5,
   "metadata": {},
   "outputs": [
    {
     "data": {
      "text/html": [
       "<div><style>\n",
       ".dataframe > thead > tr,\n",
       ".dataframe > tbody > tr {\n",
       "  text-align: right;\n",
       "  white-space: pre-wrap;\n",
       "}\n",
       "</style>\n",
       "<small>shape: (1, 22)</small><table border=\"1\" class=\"dataframe\"><thead><tr><th>id</th><th>class</th><th>cap-diameter</th><th>cap-shape</th><th>cap-surface</th><th>cap-color</th><th>does-bruise-or-bleed</th><th>gill-attachment</th><th>gill-spacing</th><th>gill-color</th><th>stem-height</th><th>stem-width</th><th>stem-root</th><th>stem-surface</th><th>stem-color</th><th>veil-type</th><th>veil-color</th><th>has-ring</th><th>ring-type</th><th>spore-print-color</th><th>habitat</th><th>season</th></tr><tr><td>u32</td><td>u32</td><td>u32</td><td>u32</td><td>u32</td><td>u32</td><td>u32</td><td>u32</td><td>u32</td><td>u32</td><td>u32</td><td>u32</td><td>u32</td><td>u32</td><td>u32</td><td>u32</td><td>u32</td><td>u32</td><td>u32</td><td>u32</td><td>u32</td><td>u32</td></tr></thead><tbody><tr><td>0</td><td>0</td><td>4</td><td>40</td><td>671023</td><td>12</td><td>8</td><td>523936</td><td>1258435</td><td>57</td><td>0</td><td>0</td><td>2757023</td><td>1980861</td><td>38</td><td>2957493</td><td>2740947</td><td>24</td><td>128880</td><td>2849682</td><td>45</td><td>0</td></tr></tbody></table></div>"
      ],
      "text/plain": [
       "shape: (1, 22)\n",
       "┌─────┬───────┬──────────────┬───────────┬───┬───────────┬───────────────────┬─────────┬────────┐\n",
       "│ id  ┆ class ┆ cap-diameter ┆ cap-shape ┆ … ┆ ring-type ┆ spore-print-color ┆ habitat ┆ season │\n",
       "│ --- ┆ ---   ┆ ---          ┆ ---       ┆   ┆ ---       ┆ ---               ┆ ---     ┆ ---    │\n",
       "│ u32 ┆ u32   ┆ u32          ┆ u32       ┆   ┆ u32       ┆ u32               ┆ u32     ┆ u32    │\n",
       "╞═════╪═══════╪══════════════╪═══════════╪═══╪═══════════╪═══════════════════╪═════════╪════════╡\n",
       "│ 0   ┆ 0     ┆ 4            ┆ 40        ┆ … ┆ 128880    ┆ 2849682           ┆ 45      ┆ 0      │\n",
       "└─────┴───────┴──────────────┴───────────┴───┴───────────┴───────────────────┴─────────┴────────┘"
      ]
     },
     "execution_count": 5,
     "metadata": {},
     "output_type": "execute_result"
    }
   ],
   "source": [
    "train_df.null_count().collect()"
   ]
  },
  {
   "cell_type": "code",
   "execution_count": 6,
   "metadata": {},
   "outputs": [],
   "source": [
    "import requests\n",
    "\n",
    "import numpy as np\n",
    "import pandas as pd\n",
    "from sklearn.metrics import f1_score, matthews_corrcoef, roc_auc_score\n",
    "from sklearn.model_selection import train_test_split\n",
    "import torch\n",
    "\n",
    "from lightautoml.automl.presets.tabular_presets import TabularAutoML, TabularUtilizedAutoML\n",
    "from lightautoml.tasks import Task\n",
    "from lightautoml.report.report_deco import ReportDeco"
   ]
  },
  {
   "cell_type": "code",
   "execution_count": 7,
   "metadata": {},
   "outputs": [
    {
     "name": "stderr",
     "output_type": "stream",
     "text": [
      "/tmp/ipykernel_6052/1442268148.py:1: PerformanceWarning: Determining the column names of a LazyFrame requires resolving its schema, which is a potentially expensive operation. Use `LazyFrame.collect_schema().names()` to get the column names without this warning.\n",
      "  train_df.columns\n"
     ]
    },
    {
     "data": {
      "text/plain": [
       "['id',\n",
       " 'class',\n",
       " 'cap-diameter',\n",
       " 'cap-shape',\n",
       " 'cap-surface',\n",
       " 'cap-color',\n",
       " 'does-bruise-or-bleed',\n",
       " 'gill-attachment',\n",
       " 'gill-spacing',\n",
       " 'gill-color',\n",
       " 'stem-height',\n",
       " 'stem-width',\n",
       " 'stem-root',\n",
       " 'stem-surface',\n",
       " 'stem-color',\n",
       " 'veil-type',\n",
       " 'veil-color',\n",
       " 'has-ring',\n",
       " 'ring-type',\n",
       " 'spore-print-color',\n",
       " 'habitat',\n",
       " 'season']"
      ]
     },
     "execution_count": 7,
     "metadata": {},
     "output_type": "execute_result"
    }
   ],
   "source": [
    "train_df.columns"
   ]
  },
  {
   "cell_type": "code",
   "execution_count": 8,
   "metadata": {},
   "outputs": [],
   "source": [
    "N_THREADS = 4 # number of vCPUs for lightAutoML model creation\n",
    "N_FOLDS = 5 # number of folds for LightAutoML inner CV\n",
    "RANDOM_STATE = 42 # random state for reproducibility\n",
    "TEST_SIZE = 0.2 # hold out part size for splitting data\n",
    "TIMEOUT = 3600 # limit in seconds for model training\n",
    "TARGET_NAME = 'class' # target column name"
   ]
  },
  {
   "cell_type": "code",
   "execution_count": 9,
   "metadata": {},
   "outputs": [],
   "source": [
    "DATASET_NAME = \"train.csv\""
   ]
  },
  {
   "cell_type": "code",
   "execution_count": 10,
   "metadata": {},
   "outputs": [],
   "source": [
    "np.random.seed(RANDOM_STATE)\n",
    "torch.set_num_threads(N_THREADS)"
   ]
  },
  {
   "cell_type": "code",
   "execution_count": 8,
   "metadata": {},
   "outputs": [],
   "source": [
    "# data = pd.read_csv(DATASET_NAME)\n",
    "# data.head()"
   ]
  },
  {
   "cell_type": "code",
   "execution_count": 11,
   "metadata": {},
   "outputs": [],
   "source": [
    "data = train_df.collect().to_pandas()"
   ]
  },
  {
   "cell_type": "code",
   "execution_count": 15,
   "metadata": {},
   "outputs": [
    {
     "data": {
      "text/plain": [
       "<Axes: >"
      ]
     },
     "execution_count": 15,
     "metadata": {},
     "output_type": "execute_result"
    },
    {
     "data": {
      "image/png": "[encoded data removed]",
      "text/plain": [
       "<Figure size 640x480 with 1 Axes>"
      ]
     },
     "metadata": {},
     "output_type": "display_data"
    }
   ],
   "source": [
    "data['class'].value_counts(dropna=False, normalize=True).plot(kind='bar', color='steelblue')"
   ]
  },
  {
   "cell_type": "code",
   "execution_count": 13,
   "metadata": {},
   "outputs": [
    {
     "name": "stdout",
     "output_type": "stream",
     "text": [
      "<class 'pandas.core.frame.DataFrame'>\n",
      "RangeIndex: 3116945 entries, 0 to 3116944\n",
      "Data columns (total 22 columns):\n",
      " #   Column                Dtype  \n",
      "---  ------                -----  \n",
      " 0   id                    int64  \n",
      " 1   class                 object \n",
      " 2   cap-diameter          float64\n",
      " 3   cap-shape             object \n",
      " 4   cap-surface           object \n",
      " 5   cap-color             object \n",
      " 6   does-bruise-or-bleed  object \n",
      " 7   gill-attachment       object \n",
      " 8   gill-spacing          object \n",
      " 9   gill-color            object \n",
      " 10  stem-height           float64\n",
      " 11  stem-width            float64\n",
      " 12  stem-root             object \n",
      " 13  stem-surface          object \n",
      " 14  stem-color            object \n",
      " 15  veil-type             object \n",
      " 16  veil-color            object \n",
      " 17  has-ring              object \n",
      " 18  ring-type             object \n",
      " 19  spore-print-color     object \n",
      " 20  habitat               object \n",
      " 21  season                object \n",
      "dtypes: float64(3), int64(1), object(18)\n",
      "memory usage: 523.2+ MB\n"
     ]
    }
   ],
   "source": [
    "data.info()"
   ]
  },
  {
   "cell_type": "code",
   "execution_count": 14,
   "metadata": {},
   "outputs": [
    {
     "name": "stdout",
     "output_type": "stream",
     "text": [
      "Data is splitted. Parts sizes: train_data = (2493556, 22), test_data = (623389, 22)\n"
     ]
    }
   ],
   "source": [
    "train_data, test_data = train_test_split(\n",
    "    data,\n",
    "    test_size=TEST_SIZE,\n",
    "    stratify=data[TARGET_NAME],\n",
    "    random_state=RANDOM_STATE\n",
    ")\n",
    "\n",
    "print(f'Data is splitted. Parts sizes: train_data = {train_data.shape}, test_data = {test_data.shape}')"
   ]
  },
  {
   "cell_type": "code",
   "execution_count": 16,
   "metadata": {},
   "outputs": [
    {
     "data": {
      "text/html": [
       "<div>\n",
       "<style scoped>\n",
       "    .dataframe tbody tr th:only-of-type {\n",
       "        vertical-align: middle;\n",
       "    }\n",
       "\n",
       "    .dataframe tbody tr th {\n",
       "        vertical-align: top;\n",
       "    }\n",
       "\n",
       "    .dataframe thead th {\n",
       "        text-align: right;\n",
       "    }\n",
       "</style>\n",
       "<table border=\"1\" class=\"dataframe\">\n",
       "  <thead>\n",
       "    <tr style=\"text-align: right;\">\n",
       "      <th></th>\n",
       "      <th>id</th>\n",
       "      <th>class</th>\n",
       "      <th>cap-diameter</th>\n",
       "      <th>cap-shape</th>\n",
       "      <th>cap-surface</th>\n",
       "      <th>cap-color</th>\n",
       "      <th>does-bruise-or-bleed</th>\n",
       "      <th>gill-attachment</th>\n",
       "      <th>gill-spacing</th>\n",
       "      <th>gill-color</th>\n",
       "      <th>...</th>\n",
       "      <th>stem-root</th>\n",
       "      <th>stem-surface</th>\n",
       "      <th>stem-color</th>\n",
       "      <th>veil-type</th>\n",
       "      <th>veil-color</th>\n",
       "      <th>has-ring</th>\n",
       "      <th>ring-type</th>\n",
       "      <th>spore-print-color</th>\n",
       "      <th>habitat</th>\n",
       "      <th>season</th>\n",
       "    </tr>\n",
       "  </thead>\n",
       "  <tbody>\n",
       "    <tr>\n",
       "      <th>586767</th>\n",
       "      <td>586767</td>\n",
       "      <td>p</td>\n",
       "      <td>4.95</td>\n",
       "      <td>x</td>\n",
       "      <td>None</td>\n",
       "      <td>p</td>\n",
       "      <td>f</td>\n",
       "      <td>None</td>\n",
       "      <td>c</td>\n",
       "      <td>w</td>\n",
       "      <td>...</td>\n",
       "      <td>None</td>\n",
       "      <td>None</td>\n",
       "      <td>y</td>\n",
       "      <td>None</td>\n",
       "      <td>None</td>\n",
       "      <td>f</td>\n",
       "      <td>f</td>\n",
       "      <td>None</td>\n",
       "      <td>d</td>\n",
       "      <td>a</td>\n",
       "    </tr>\n",
       "    <tr>\n",
       "      <th>2665706</th>\n",
       "      <td>2665706</td>\n",
       "      <td>p</td>\n",
       "      <td>1.47</td>\n",
       "      <td>b</td>\n",
       "      <td>y</td>\n",
       "      <td>n</td>\n",
       "      <td>f</td>\n",
       "      <td>None</td>\n",
       "      <td>c</td>\n",
       "      <td>k</td>\n",
       "      <td>...</td>\n",
       "      <td>None</td>\n",
       "      <td>None</td>\n",
       "      <td>w</td>\n",
       "      <td>None</td>\n",
       "      <td>None</td>\n",
       "      <td>f</td>\n",
       "      <td>f</td>\n",
       "      <td>None</td>\n",
       "      <td>d</td>\n",
       "      <td>u</td>\n",
       "    </tr>\n",
       "    <tr>\n",
       "      <th>1270574</th>\n",
       "      <td>1270574</td>\n",
       "      <td>e</td>\n",
       "      <td>10.29</td>\n",
       "      <td>x</td>\n",
       "      <td>e</td>\n",
       "      <td>l</td>\n",
       "      <td>f</td>\n",
       "      <td>x</td>\n",
       "      <td>c</td>\n",
       "      <td>w</td>\n",
       "      <td>...</td>\n",
       "      <td>None</td>\n",
       "      <td>None</td>\n",
       "      <td>w</td>\n",
       "      <td>None</td>\n",
       "      <td>None</td>\n",
       "      <td>f</td>\n",
       "      <td>f</td>\n",
       "      <td>None</td>\n",
       "      <td>d</td>\n",
       "      <td>a</td>\n",
       "    </tr>\n",
       "    <tr>\n",
       "      <th>2935630</th>\n",
       "      <td>2935630</td>\n",
       "      <td>p</td>\n",
       "      <td>7.45</td>\n",
       "      <td>s</td>\n",
       "      <td>d</td>\n",
       "      <td>n</td>\n",
       "      <td>t</td>\n",
       "      <td>d</td>\n",
       "      <td>c</td>\n",
       "      <td>n</td>\n",
       "      <td>...</td>\n",
       "      <td>None</td>\n",
       "      <td>None</td>\n",
       "      <td>e</td>\n",
       "      <td>None</td>\n",
       "      <td>None</td>\n",
       "      <td>f</td>\n",
       "      <td>f</td>\n",
       "      <td>None</td>\n",
       "      <td>d</td>\n",
       "      <td>a</td>\n",
       "    </tr>\n",
       "    <tr>\n",
       "      <th>3113991</th>\n",
       "      <td>3113991</td>\n",
       "      <td>p</td>\n",
       "      <td>5.44</td>\n",
       "      <td>x</td>\n",
       "      <td>None</td>\n",
       "      <td>e</td>\n",
       "      <td>f</td>\n",
       "      <td>None</td>\n",
       "      <td>c</td>\n",
       "      <td>r</td>\n",
       "      <td>...</td>\n",
       "      <td>None</td>\n",
       "      <td>None</td>\n",
       "      <td>y</td>\n",
       "      <td>None</td>\n",
       "      <td>None</td>\n",
       "      <td>f</td>\n",
       "      <td>f</td>\n",
       "      <td>None</td>\n",
       "      <td>d</td>\n",
       "      <td>a</td>\n",
       "    </tr>\n",
       "  </tbody>\n",
       "</table>\n",
       "<p>5 rows × 22 columns</p>\n",
       "</div>"
      ],
      "text/plain": [
       "              id class  cap-diameter cap-shape cap-surface cap-color  \\\n",
       "586767    586767     p          4.95         x        None         p   \n",
       "2665706  2665706     p          1.47         b           y         n   \n",
       "1270574  1270574     e         10.29         x           e         l   \n",
       "2935630  2935630     p          7.45         s           d         n   \n",
       "3113991  3113991     p          5.44         x        None         e   \n",
       "\n",
       "        does-bruise-or-bleed gill-attachment gill-spacing gill-color  ...  \\\n",
       "586767                     f            None            c          w  ...   \n",
       "2665706                    f            None            c          k  ...   \n",
       "1270574                    f               x            c          w  ...   \n",
       "2935630                    t               d            c          n  ...   \n",
       "3113991                    f            None            c          r  ...   \n",
       "\n",
       "         stem-root  stem-surface stem-color veil-type veil-color has-ring  \\\n",
       "586767        None          None          y      None       None        f   \n",
       "2665706       None          None          w      None       None        f   \n",
       "1270574       None          None          w      None       None        f   \n",
       "2935630       None          None          e      None       None        f   \n",
       "3113991       None          None          y      None       None        f   \n",
       "\n",
       "        ring-type spore-print-color habitat season  \n",
       "586767          f              None       d      a  \n",
       "2665706         f              None       d      u  \n",
       "1270574         f              None       d      a  \n",
       "2935630         f              None       d      a  \n",
       "3113991         f              None       d      a  \n",
       "\n",
       "[5 rows x 22 columns]"
      ]
     },
     "execution_count": 16,
     "metadata": {},
     "output_type": "execute_result"
    }
   ],
   "source": [
    "train_data.head()"
   ]
  },
  {
   "cell_type": "code",
   "execution_count": 18,
   "metadata": {},
   "outputs": [
    {
     "data": {
      "text/plain": [
       "<Axes: >"
      ]
     },
     "execution_count": 18,
     "metadata": {},
     "output_type": "execute_result"
    },
    {
     "data": {
      "image/png": "[encoded data removed]",
      "text/plain": [
       "<Figure size 640x480 with 1 Axes>"
      ]
     },
     "metadata": {},
     "output_type": "display_data"
    }
   ],
   "source": [
    "train_data[TARGET_NAME].value_counts(normalize=True, dropna=False).plot(kind='bar')"
   ]
  },
  {
   "cell_type": "code",
   "execution_count": 19,
   "metadata": {},
   "outputs": [],
   "source": [
    "task = Task('binary')"
   ]
  },
  {
   "cell_type": "markdown",
   "metadata": {},
   "source": [
    "Unfortunately there is no mcc in avalilable metrics:\n",
    "- ‘auc’ - (uses by default) ROC-AUC score.\n",
    "- ‘accuracy’ - Accuracy score (uses argmax prediction).\n",
    "- ‘logloss’ - Standard logistic loss."
   ]
  },
  {
   "cell_type": "code",
   "execution_count": 20,
   "metadata": {},
   "outputs": [],
   "source": [
    "roles = {\n",
    "    'target': TARGET_NAME,\n",
    "    'drop': ['id']\n",
    "}"
   ]
  },
  {
   "cell_type": "code",
   "execution_count": 18,
   "metadata": {},
   "outputs": [],
   "source": [
    "automl = TabularAutoML(\n",
    "    task=task,\n",
    "    timeout=TIMEOUT,\n",
    "    cpu_limit=N_THREADS,\n",
    "    reader_params={'n_jobs': N_THREADS, 'cv': N_FOLDS, 'random_state': RANDOM_STATE}\n",
    ")"
   ]
  },
  {
   "cell_type": "code",
   "execution_count": 19,
   "metadata": {},
   "outputs": [
    {
     "name": "stdout",
     "output_type": "stream",
     "text": [
      "[14:48:19] Stdout logging level is INFO.\n",
      "[14:48:19] Copying TaskTimer may affect the parent PipelineTimer, so copy will create new unlimited TaskTimer\n",
      "[14:48:19] Task: binary\n",
      "\n",
      "[14:48:19] Start automl preset with listed constraints:\n",
      "[14:48:19] - time: 3600.00 seconds\n",
      "[14:48:19] - CPU: 4 cores\n",
      "[14:48:19] - memory: 16 GB\n",
      "\n",
      "[14:48:19] \u001b[1mTrain data shape: (2493556, 22)\u001b[0m\n",
      "\n",
      "[14:48:36] Layer \u001b[1m1\u001b[0m train process start. Time left 3583.13 secs\n",
      "[14:50:00] Start fitting \u001b[1mLvl_0_Pipe_0_Mod_0_LinearL2\u001b[0m ...\n",
      "[14:54:58] Time limit exceeded after calculating fold 1\n",
      "\n",
      "[14:54:59] Fitting \u001b[1mLvl_0_Pipe_0_Mod_0_LinearL2\u001b[0m finished. score = \u001b[1m0.9491542367487322\u001b[0m\n",
      "[14:54:59] \u001b[1mLvl_0_Pipe_0_Mod_0_LinearL2\u001b[0m fitting and predicting completed\n",
      "[14:54:59] Time left 3200.68 secs\n",
      "\n",
      "[14:56:38] \u001b[1mSelector_LightGBM\u001b[0m fitting and predicting completed\n",
      "[14:58:31] Start fitting \u001b[1mLvl_0_Pipe_1_Mod_0_LightGBM\u001b[0m ...\n",
      "[15:03:01] Time limit exceeded after calculating fold 1\n",
      "\n",
      "[15:03:01] Fitting \u001b[1mLvl_0_Pipe_1_Mod_0_LightGBM\u001b[0m finished. score = \u001b[1m0.9970172952911046\u001b[0m\n",
      "[15:03:01] \u001b[1mLvl_0_Pipe_1_Mod_0_LightGBM\u001b[0m fitting and predicting completed\n",
      "[15:03:01] Start hyperparameters optimization for \u001b[1mLvl_0_Pipe_1_Mod_1_Tuned_LightGBM\u001b[0m ... Time budget is 1.00 secs\n",
      "[15:04:44] Hyperparameters optimization for \u001b[1mLvl_0_Pipe_1_Mod_1_Tuned_LightGBM\u001b[0m completed\n",
      "[15:04:44] Start fitting \u001b[1mLvl_0_Pipe_1_Mod_1_Tuned_LightGBM\u001b[0m ...\n",
      "[15:13:41] Fitting \u001b[1mLvl_0_Pipe_1_Mod_1_Tuned_LightGBM\u001b[0m finished. score = \u001b[1m0.9970282322763812\u001b[0m\n",
      "[15:13:41] \u001b[1mLvl_0_Pipe_1_Mod_1_Tuned_LightGBM\u001b[0m fitting and predicting completed\n",
      "[15:13:42] Start fitting \u001b[1mLvl_0_Pipe_1_Mod_2_CatBoost\u001b[0m ...\n",
      "[15:25:14] Time limit exceeded after calculating fold 0\n",
      "\n",
      "[15:25:14] Fitting \u001b[1mLvl_0_Pipe_1_Mod_2_CatBoost\u001b[0m finished. score = \u001b[1m0.9968008825160956\u001b[0m\n",
      "[15:25:14] \u001b[1mLvl_0_Pipe_1_Mod_2_CatBoost\u001b[0m fitting and predicting completed\n",
      "[15:25:15] Time left 1384.71 secs\n",
      "\n",
      "[15:25:15] Time limit exceeded in one of the tasks. AutoML will blend level 1 models.\n",
      "\n",
      "[15:25:15] \u001b[1mLayer 1 training completed.\u001b[0m\n",
      "\n",
      "[15:25:15] Blending: optimization starts with equal weights and score \u001b[1m0.9962341165462414\u001b[0m\n",
      "[15:25:39] Blending: iteration \u001b[1m0\u001b[0m: score = \u001b[1m0.9970607750953698\u001b[0m, weights = \u001b[1m[0.         0.4577559  0.29770422 0.24453984]\u001b[0m\n",
      "[15:26:04] Blending: iteration \u001b[1m1\u001b[0m: score = \u001b[1m0.9970607810438719\u001b[0m, weights = \u001b[1m[0.         0.4694073  0.2913074  0.23928536]\u001b[0m\n",
      "[15:26:27] Blending: iteration \u001b[1m2\u001b[0m: score = \u001b[1m0.9970607810438719\u001b[0m, weights = \u001b[1m[0.         0.4694073  0.2913074  0.23928536]\u001b[0m\n",
      "[15:26:27] Blending: no score update. Terminated\n",
      "\n",
      "[15:26:27] \u001b[1mAutoml preset training completed in 2287.97 seconds\u001b[0m\n",
      "\n",
      "[15:26:27] Model description:\n",
      "Final prediction for new objects (level 0) = \n",
      "\t 0.46941 * (2 averaged models Lvl_0_Pipe_1_Mod_0_LightGBM) +\n",
      "\t 0.29131 * (5 averaged models Lvl_0_Pipe_1_Mod_1_Tuned_LightGBM) +\n",
      "\t 0.23929 * (1 averaged models Lvl_0_Pipe_1_Mod_2_CatBoost) \n",
      "\n",
      "CPU times: user 2h 4min 30s, sys: 4min 35s, total: 2h 9min 5s\n",
      "Wall time: 38min 7s\n"
     ]
    }
   ],
   "source": [
    "%%time\n",
    "out_of_fold_predictions = automl.fit_predict(train_data, roles=roles, verbose=1)"
   ]
  },
  {
   "cell_type": "code",
   "execution_count": 20,
   "metadata": {},
   "outputs": [
    {
     "name": "stdout",
     "output_type": "stream",
     "text": [
      "Prediction for test_data:\n",
      "array([[0.99450445],\n",
      "       [0.99274296],\n",
      "       [0.9952512 ],\n",
      "       ...,\n",
      "       [0.99438167],\n",
      "       [0.98908454],\n",
      "       [0.00502333]], dtype=float32)\n",
      "Shape = (623389, 1)\n",
      "CPU times: user 3min 49s, sys: 693 ms, total: 3min 49s\n",
      "Wall time: 1min 9s\n"
     ]
    }
   ],
   "source": [
    "%%time\n",
    "\n",
    "test_predictions = automl.predict(test_data)\n",
    "print(f'Prediction for test_data:\\n{test_predictions}\\nShape = {test_predictions.shape}')"
   ]
  },
  {
   "cell_type": "code",
   "execution_count": 34,
   "metadata": {},
   "outputs": [
    {
     "data": {
      "text/plain": [
       "{'general_params': {'use_algos': 'auto',\n",
       "  'nested_cv': False,\n",
       "  'skip_conn': True,\n",
       "  'return_all_predictions': False,\n",
       "  'weighted_blender_max_nonzero_coef': 0.05},\n",
       " 'reader_params': {'samples': 100000,\n",
       "  'max_nan_rate': 0.999,\n",
       "  'max_constant_rate': 0.999,\n",
       "  'cv': 5,\n",
       "  'random_state': 42,\n",
       "  'roles_params': None,\n",
       "  'n_jobs': 8,\n",
       "  'advanced_roles': True,\n",
       "  'numeric_unique_rate': 0.999,\n",
       "  'max_to_3rd_rate': 1.1,\n",
       "  'binning_enc_rate': 2,\n",
       "  'raw_decr_rate': 1.1,\n",
       "  'max_score_rate': 0.2,\n",
       "  'abs_score_val': 0.04,\n",
       "  'drop_score_co': 0.0},\n",
       " 'read_csv_params': {'decimal': '.', 'sep': ','},\n",
       " 'nested_cv_params': {'cv': 5,\n",
       "  'n_folds': None,\n",
       "  'inner_tune': False,\n",
       "  'refit_tuner': True},\n",
       " 'selection_params': {'mode': 1,\n",
       "  'importance_type': 'gain',\n",
       "  'fit_on_holdout': True,\n",
       "  'cutoff': 0,\n",
       "  'feature_group_size': 1,\n",
       "  'max_features_cnt_in_result': None,\n",
       "  'select_algos': ['gbm']},\n",
       " 'tuning_params': {'fit_on_holdout': True,\n",
       "  'max_tuning_iter': 101,\n",
       "  'max_tuning_time': 300},\n",
       " 'lgb_params': {'default_params': {'num_threads': 100},\n",
       "  'freeze_defaults': False},\n",
       " 'cb_params': {'default_params': {'task_type': 'CPU', 'thread_count': 100},\n",
       "  'freeze_defaults': False},\n",
       " 'rf_params': {'default_params': None, 'freeze_defaults': False},\n",
       " 'linear_l2_params': {'default_params': {}, 'freeze_defaults': False},\n",
       " 'nn_params': {'model': 'denselight',\n",
       "  'embedding_size': 10,\n",
       "  'cat_embedder': 'cat',\n",
       "  'cont_embedder': 'cont',\n",
       "  'model_with_emb': False,\n",
       "  'tuned': False,\n",
       "  'optimization_search_space': None,\n",
       "  'loss': None,\n",
       "  'loss_params': {},\n",
       "  'loss_on_logits': True,\n",
       "  'clip_grad': False,\n",
       "  'clip_grad_params': {},\n",
       "  'drop_rate': 0.1,\n",
       "  'num_init_features': None,\n",
       "  'act_fun': 'LeakyReLU',\n",
       "  'use_noise': False,\n",
       "  'noise_std': 0.05,\n",
       "  'use_bn': True,\n",
       "  'hidden_size': [512, 256],\n",
       "  'hid_factor': [2, 2],\n",
       "  'block_config': [2, 2],\n",
       "  'compression': 0.5,\n",
       "  'growth_size': 256,\n",
       "  'bn_factor': 2,\n",
       "  'stop_by_metric': False,\n",
       "  'random_state': 42,\n",
       "  'path_to_save': None,\n",
       "  'opt': 'Adam',\n",
       "  'opt_params': {'lr': 0.0003, 'weight_decay': 0},\n",
       "  'sch': 'ReduceLROnPlateau',\n",
       "  'scheduler_params': {'patience': 5, 'factor': 0.5, 'min_lr': 1e-05},\n",
       "  'is_snap': False,\n",
       "  'snap_params': {'k': 3, 'early_stopping': True, 'patience': 10, 'swa': True},\n",
       "  'init_bias': True,\n",
       "  'verbose_inside': None,\n",
       "  'verbose': 1,\n",
       "  'verbose_bar': False,\n",
       "  'n_epochs': 50,\n",
       "  'input_bn': False,\n",
       "  'emb_dropout': 0.1,\n",
       "  'emb_ratio': 3,\n",
       "  'max_emb_size': 256,\n",
       "  'use_cont': True,\n",
       "  'use_cat': True,\n",
       "  'use_text': False,\n",
       "  'deterministic': True,\n",
       "  'multigpu': False,\n",
       "  'device': 'cuda:0',\n",
       "  'dataset': 'UniversalDataset',\n",
       "  'pin_memory': False,\n",
       "  'bs': 512,\n",
       "  'num_workers': 0,\n",
       "  'tuning_params': {'fit_on_holdout': True,\n",
       "   'max_tuning_iter': 25,\n",
       "   'max_tuning_time': 3600},\n",
       "  'freeze_defaults': False},\n",
       " 'gbm_pipeline_params': {'top_intersections': 4,\n",
       "  'max_intersection_depth': 3,\n",
       "  'subsample': 100000,\n",
       "  'auto_unique_co': 10,\n",
       "  'multiclass_te_co': 3,\n",
       "  'output_categories': False,\n",
       "  'use_groupby': False,\n",
       "  'groupby_types': ['delta_median',\n",
       "   'delta_mean',\n",
       "   'min',\n",
       "   'max',\n",
       "   'std',\n",
       "   'mode',\n",
       "   'is_mode'],\n",
       "  'groupby_top_based_on': 'cardinality',\n",
       "  'groupby_top_categorical': 3,\n",
       "  'groupby_top_numerical': 3,\n",
       "  'groupby_triplets': []},\n",
       " 'linear_pipeline_params': {'top_intersections': 4,\n",
       "  'max_intersection_depth': 3,\n",
       "  'subsample': 100000,\n",
       "  'auto_unique_co': 50,\n",
       "  'multiclass_te_co': 3,\n",
       "  'use_groupby': False,\n",
       "  'groupby_types': ['delta_median',\n",
       "   'delta_mean',\n",
       "   'min',\n",
       "   'max',\n",
       "   'std',\n",
       "   'mode',\n",
       "   'is_mode'],\n",
       "  'groupby_top_based_on': 'cardinality',\n",
       "  'groupby_top_categorical': 3,\n",
       "  'groupby_top_numerical': 3,\n",
       "  'groupby_triplets': []},\n",
       " 'nn_pipeline_params': {'use_qnt': False,\n",
       "  'n_quantiles': None,\n",
       "  'subsample': 1000000000,\n",
       "  'output_distribution': 'normal',\n",
       "  'noise': 0.001,\n",
       "  'qnt_factor': 30,\n",
       "  'use_te': False,\n",
       "  'top_intersections': 5,\n",
       "  'max_bin_count': 10,\n",
       "  'max_intersection_depth': 3,\n",
       "  'te_subsample': None,\n",
       "  'sparse_ohe': 'auto',\n",
       "  'auto_unique_co': 50,\n",
       "  'output_categories': True,\n",
       "  'multiclass_te_co': 3},\n",
       " 'timing_params': {'mode': 1, 'overhead': 0.1, 'tuning_rate': 0.7}}"
      ]
     },
     "execution_count": 34,
     "metadata": {},
     "output_type": "execute_result"
    }
   ],
   "source": [
    "automl.get_config()"
   ]
  },
  {
   "cell_type": "code",
   "execution_count": 22,
   "metadata": {},
   "outputs": [
    {
     "name": "stdout",
     "output_type": "stream",
     "text": [
      "OOF score: 0.002939218956128139\n",
      "HOLDOUT score: 0.0027796972715918664\n"
     ]
    }
   ],
   "source": [
    "print(f'OOF score: {roc_auc_score(train_data[TARGET_NAME].values, out_of_fold_predictions.data[:, 0])}')\n",
    "print(f'HOLDOUT score: {roc_auc_score(test_data[TARGET_NAME].values, test_predictions.data[:, 0])}')"
   ]
  },
  {
   "cell_type": "code",
   "execution_count": 23,
   "metadata": {},
   "outputs": [
    {
     "data": {
      "text/plain": [
       "array([[0.0039817 ],\n",
       "       [0.98914045],\n",
       "       [0.99698055],\n",
       "       ...,\n",
       "       [0.99583554],\n",
       "       [0.9968535 ],\n",
       "       [0.995476  ]], dtype=float32)"
      ]
     },
     "execution_count": 23,
     "metadata": {},
     "output_type": "execute_result"
    }
   ],
   "source": [
    "out_of_fold_predictions.data[]"
   ]
  },
  {
   "cell_type": "code",
   "execution_count": 35,
   "metadata": {},
   "outputs": [
    {
     "data": {
      "text/plain": [
       "array([[0.99567825, 0.9947729 , 0.99187505],\n",
       "       [0.99407727, 0.99340695, 0.9893171 ],\n",
       "       [0.9953694 , 0.994633  , 0.99577194],\n",
       "       ...,\n",
       "       [0.9945405 , 0.9935221 , 0.9951161 ],\n",
       "       [0.9885213 , 0.9900485 , 0.9890156 ],\n",
       "       [0.00494316, 0.0053453 , 0.00478861]], dtype=float32)"
      ]
     },
     "execution_count": 35,
     "metadata": {},
     "output_type": "execute_result"
    }
   ],
   "source": [
    "automl.predict(test_data, features_names='predictions', return_all_predictions=True)"
   ]
  },
  {
   "cell_type": "code",
   "execution_count": 24,
   "metadata": {},
   "outputs": [
    {
     "data": {
      "text/plain": [
       "array(['p', 'p', 'e', ..., 'e', 'e', 'e'], dtype=object)"
      ]
     },
     "execution_count": 24,
     "metadata": {},
     "output_type": "execute_result"
    }
   ],
   "source": [
    "train_data[TARGET_NAME].values"
   ]
  },
  {
   "cell_type": "code",
   "execution_count": 27,
   "metadata": {},
   "outputs": [
    {
     "data": {
      "text/plain": [
       "array([0, 0, 1, ..., 1, 1, 1], dtype=int32)"
      ]
     },
     "execution_count": 27,
     "metadata": {},
     "output_type": "execute_result"
    }
   ],
   "source": [
    "out_of_fold_predictions"
   ]
  },
  {
   "cell_type": "code",
   "execution_count": 28,
   "metadata": {},
   "outputs": [
    {
     "name": "stdout",
     "output_type": "stream",
     "text": [
      "Final prediction for new objects (level 0) = \n",
      "\t 0.46941 * (2 averaged models Lvl_0_Pipe_1_Mod_0_LightGBM) +\n",
      "\t 0.29131 * (5 averaged models Lvl_0_Pipe_1_Mod_1_Tuned_LightGBM) +\n",
      "\t 0.23929 * (1 averaged models Lvl_0_Pipe_1_Mod_2_CatBoost) \n"
     ]
    }
   ],
   "source": [
    "print(automl.create_model_str_desc())"
   ]
  },
  {
   "cell_type": "markdown",
   "metadata": {},
   "source": [
    "---"
   ]
  },
  {
   "cell_type": "code",
   "execution_count": 21,
   "metadata": {},
   "outputs": [],
   "source": [
    "RD = ReportDeco(output_path='tabularAutoML_model_report')\n",
    "\n",
    "automl_rd = RD(\n",
    "    TabularAutoML(\n",
    "        task=task,\n",
    "        timeout=TIMEOUT,\n",
    "        cpu_limit=N_THREADS,\n",
    "        reader_params={'n_jobs': N_THREADS, 'cv': N_FOLDS, 'random_state': RANDOM_STATE}\n",
    "    )\n",
    ")"
   ]
  },
  {
   "cell_type": "code",
   "execution_count": 22,
   "metadata": {},
   "outputs": [
    {
     "data": {
      "text/plain": [
       "{'target': 'class', 'drop': ['id']}"
      ]
     },
     "execution_count": 22,
     "metadata": {},
     "output_type": "execute_result"
    }
   ],
   "source": [
    "roles"
   ]
  },
  {
   "cell_type": "code",
   "execution_count": 23,
   "metadata": {},
   "outputs": [
    {
     "name": "stdout",
     "output_type": "stream",
     "text": [
      "[10:41:36] Stdout logging level is INFO.\n",
      "[10:41:36] Copying TaskTimer may affect the parent PipelineTimer, so copy will create new unlimited TaskTimer\n",
      "[10:41:36] Task: binary\n",
      "\n",
      "[10:41:36] Start automl preset with listed constraints:\n",
      "[10:41:36] - time: 3600.00 seconds\n",
      "[10:41:36] - CPU: 4 cores\n",
      "[10:41:36] - memory: 16 GB\n",
      "\n",
      "[10:41:36] \u001b[1mTrain data shape: (2493556, 22)\u001b[0m\n",
      "\n",
      "[10:41:54] Layer \u001b[1m1\u001b[0m train process start. Time left 3582.55 secs\n",
      "[10:43:27] Start fitting \u001b[1mLvl_0_Pipe_0_Mod_0_LinearL2\u001b[0m ...\n",
      "[10:46:10] Time limit exceeded after calculating fold 0\n",
      "\n",
      "[10:46:10] Fitting \u001b[1mLvl_0_Pipe_0_Mod_0_LinearL2\u001b[0m finished. score = \u001b[1m0.9493398730989631\u001b[0m\n",
      "[10:46:10] \u001b[1mLvl_0_Pipe_0_Mod_0_LinearL2\u001b[0m fitting and predicting completed\n",
      "[10:46:10] Time left 3325.78 secs\n",
      "\n",
      "[10:47:57] \u001b[1mSelector_LightGBM\u001b[0m fitting and predicting completed\n",
      "[10:49:55] Start fitting \u001b[1mLvl_0_Pipe_1_Mod_0_LightGBM\u001b[0m ...\n",
      "[10:54:40] Time limit exceeded after calculating fold 1\n",
      "\n",
      "[10:54:41] Fitting \u001b[1mLvl_0_Pipe_1_Mod_0_LightGBM\u001b[0m finished. score = \u001b[1m0.9970172952911046\u001b[0m\n",
      "[10:54:41] \u001b[1mLvl_0_Pipe_1_Mod_0_LightGBM\u001b[0m fitting and predicting completed\n",
      "[10:54:41] Start hyperparameters optimization for \u001b[1mLvl_0_Pipe_1_Mod_1_Tuned_LightGBM\u001b[0m ... Time budget is 1.00 secs\n",
      "[10:56:29] Hyperparameters optimization for \u001b[1mLvl_0_Pipe_1_Mod_1_Tuned_LightGBM\u001b[0m completed\n",
      "[10:56:29] Start fitting \u001b[1mLvl_0_Pipe_1_Mod_1_Tuned_LightGBM\u001b[0m ...\n",
      "[11:05:47] Fitting \u001b[1mLvl_0_Pipe_1_Mod_1_Tuned_LightGBM\u001b[0m finished. score = \u001b[1m0.9970282322763812\u001b[0m\n",
      "[11:05:47] \u001b[1mLvl_0_Pipe_1_Mod_1_Tuned_LightGBM\u001b[0m fitting and predicting completed\n",
      "[11:05:47] Start fitting \u001b[1mLvl_0_Pipe_1_Mod_2_CatBoost\u001b[0m ...\n",
      "[11:17:39] Time limit exceeded after calculating fold 0\n",
      "\n",
      "[11:17:39] Fitting \u001b[1mLvl_0_Pipe_1_Mod_2_CatBoost\u001b[0m finished. score = \u001b[1m0.9968008825160956\u001b[0m\n",
      "[11:17:39] \u001b[1mLvl_0_Pipe_1_Mod_2_CatBoost\u001b[0m fitting and predicting completed\n",
      "[11:17:39] Time left 1436.85 secs\n",
      "\n",
      "[11:17:39] Time limit exceeded in one of the tasks. AutoML will blend level 1 models.\n",
      "\n",
      "[11:17:39] \u001b[1mLayer 1 training completed.\u001b[0m\n",
      "\n",
      "[11:17:40] Blending: optimization starts with equal weights and score \u001b[1m0.9966139081259634\u001b[0m\n",
      "[11:18:04] Blending: iteration \u001b[1m0\u001b[0m: score = \u001b[1m0.9970607750953698\u001b[0m, weights = \u001b[1m[0.         0.4577559  0.29770422 0.24453984]\u001b[0m\n",
      "[11:18:28] Blending: iteration \u001b[1m1\u001b[0m: score = \u001b[1m0.9970607810701597\u001b[0m, weights = \u001b[1m[0.         0.46756458 0.29286385 0.23957163]\u001b[0m\n",
      "[11:18:54] Blending: iteration \u001b[1m2\u001b[0m: score = \u001b[1m0.997060781003629\u001b[0m, weights = \u001b[1m[0.         0.4691372  0.29199883 0.238864  ]\u001b[0m\n",
      "[11:18:54] Blending: no score update. Terminated\n",
      "\n",
      "[11:18:54] \u001b[1mAutoml preset training completed in 2238.15 seconds\u001b[0m\n",
      "\n",
      "[11:18:54] Model description:\n",
      "Final prediction for new objects (level 0) = \n",
      "\t 0.46756 * (2 averaged models Lvl_0_Pipe_1_Mod_0_LightGBM) +\n",
      "\t 0.29286 * (5 averaged models Lvl_0_Pipe_1_Mod_1_Tuned_LightGBM) +\n",
      "\t 0.23957 * (1 averaged models Lvl_0_Pipe_1_Mod_2_CatBoost) \n",
      "\n"
     ]
    },
    {
     "ename": "TypeError",
     "evalue": "unsupported operand type(s) for -: 'int' and 'str'",
     "output_type": "error",
     "traceback": [
      "\u001b[0;31m---------------------------------------------------------------------------\u001b[0m",
      "\u001b[0;31mTypeError\u001b[0m                                 Traceback (most recent call last)",
      "File \u001b[0;32m<timed exec>:1\u001b[0m\n",
      "File \u001b[0;32m~/.local/share/virtualenvs/mushroom-binary-classifier-xNLFocT1/lib/python3.11/site-packages/lightautoml/report/report_deco.py:679\u001b[0m, in \u001b[0;36mReportDeco.fit_predict\u001b[0;34m(self, *args, **kwargs)\u001b[0m\n\u001b[1;32m    677\u001b[0m \u001b[38;5;28mself\u001b[39m\u001b[38;5;241m.\u001b[39m_inference_content[\u001b[38;5;124m\"\u001b[39m\u001b[38;5;124mdistribution_of_logits\u001b[39m\u001b[38;5;124m\"\u001b[39m] \u001b[38;5;241m=\u001b[39m \u001b[38;5;124m\"\u001b[39m\u001b[38;5;124mvalid_distribution_of_logits.png\u001b[39m\u001b[38;5;124m\"\u001b[39m\n\u001b[1;32m    678\u001b[0m \u001b[38;5;66;03m# graphics and metrics\u001b[39;00m\n\u001b[0;32m--> 679\u001b[0m _, \u001b[38;5;28mself\u001b[39m\u001b[38;5;241m.\u001b[39m_F1_thresh \u001b[38;5;241m=\u001b[39m \u001b[43mf1_score_w_co\u001b[49m\u001b[43m(\u001b[49m\u001b[43mdata\u001b[49m\u001b[43m)\u001b[49m\n\u001b[1;32m    680\u001b[0m auc_score, prec, rec, F1 \u001b[38;5;241m=\u001b[39m \u001b[38;5;28mself\u001b[39m\u001b[38;5;241m.\u001b[39m_binary_classification_details(data)\n\u001b[1;32m    681\u001b[0m \u001b[38;5;66;03m# update model section\u001b[39;00m\n",
      "File \u001b[0;32m~/.local/share/virtualenvs/mushroom-binary-classifier-xNLFocT1/lib/python3.11/site-packages/lightautoml/report/report_deco.py:221\u001b[0m, in \u001b[0;36mf1_score_w_co\u001b[0;34m(input_data, min_co, max_co, step)\u001b[0m\n\u001b[1;32m    218\u001b[0m data[\u001b[38;5;124m\"\u001b[39m\u001b[38;5;124my_pred\u001b[39m\u001b[38;5;124m\"\u001b[39m] \u001b[38;5;241m=\u001b[39m np\u001b[38;5;241m.\u001b[39mclip(np\u001b[38;5;241m.\u001b[39mceil(data[\u001b[38;5;124m\"\u001b[39m\u001b[38;5;124my_pred\u001b[39m\u001b[38;5;124m\"\u001b[39m]\u001b[38;5;241m.\u001b[39mvalues \u001b[38;5;241m/\u001b[39m step) \u001b[38;5;241m*\u001b[39m step, min_co, max_co)\n\u001b[1;32m    220\u001b[0m pos \u001b[38;5;241m=\u001b[39m data[\u001b[38;5;124m\"\u001b[39m\u001b[38;5;124my_true\u001b[39m\u001b[38;5;124m\"\u001b[39m]\u001b[38;5;241m.\u001b[39msum()\n\u001b[0;32m--> 221\u001b[0m neg \u001b[38;5;241m=\u001b[39m \u001b[43mdata\u001b[49m\u001b[43m[\u001b[49m\u001b[38;5;124;43m\"\u001b[39;49m\u001b[38;5;124;43my_true\u001b[39;49m\u001b[38;5;124;43m\"\u001b[39;49m\u001b[43m]\u001b[49m\u001b[38;5;241;43m.\u001b[39;49m\u001b[43mshape\u001b[49m\u001b[43m[\u001b[49m\u001b[38;5;241;43m0\u001b[39;49m\u001b[43m]\u001b[49m\u001b[43m \u001b[49m\u001b[38;5;241;43m-\u001b[39;49m\u001b[43m \u001b[49m\u001b[43mpos\u001b[49m\n\u001b[1;32m    223\u001b[0m grp \u001b[38;5;241m=\u001b[39m pd\u001b[38;5;241m.\u001b[39mDataFrame(data)\u001b[38;5;241m.\u001b[39mgroupby(\u001b[38;5;124m\"\u001b[39m\u001b[38;5;124my_pred\u001b[39m\u001b[38;5;124m\"\u001b[39m)[\u001b[38;5;124m\"\u001b[39m\u001b[38;5;124my_true\u001b[39m\u001b[38;5;124m\"\u001b[39m]\u001b[38;5;241m.\u001b[39magg([\u001b[38;5;124m\"\u001b[39m\u001b[38;5;124msum\u001b[39m\u001b[38;5;124m\"\u001b[39m, \u001b[38;5;124m\"\u001b[39m\u001b[38;5;124mcount\u001b[39m\u001b[38;5;124m\"\u001b[39m])\n\u001b[1;32m    224\u001b[0m grp\u001b[38;5;241m.\u001b[39msort_index(inplace\u001b[38;5;241m=\u001b[39m\u001b[38;5;28;01mTrue\u001b[39;00m)\n",
      "\u001b[0;31mTypeError\u001b[0m: unsupported operand type(s) for -: 'int' and 'str'"
     ]
    }
   ],
   "source": [
    "%%time\n",
    "out_of_fold_predictions = automl_rd.fit_predict(train_data, roles=roles, verbose=1)"
   ]
  },
  {
   "cell_type": "code",
   "execution_count": null,
   "metadata": {},
   "outputs": [],
   "source": []
  }
 ],
 "metadata": {
  "kernelspec": {
   "display_name": "mushroom-binary-classifier-xNLFocT1",
   "language": "python",
   "name": "python3"
  },
  "language_info": {
   "codemirror_mode": {
    "name": "ipython",
    "version": 3
   },
   "file_extension": ".py",
   "mimetype": "text/x-python",
   "name": "python",
   "nbconvert_exporter": "python",
   "pygments_lexer": "ipython3",
   "version": "3.11.9"
  }
 },
 "nbformat": 4,
 "nbformat_minor": 2
}
